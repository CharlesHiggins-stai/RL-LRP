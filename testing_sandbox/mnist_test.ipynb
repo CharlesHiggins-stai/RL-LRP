{
 "cells": [
  {
   "cell_type": "code",
   "execution_count": 4,
   "metadata": {},
   "outputs": [
    {
     "data": {
      "text/html": [
       "wandb version 0.17.1 is available!  To upgrade, please run:\n",
       " $ pip install wandb --upgrade"
      ],
      "text/plain": [
       "<IPython.core.display.HTML object>"
      ]
     },
     "metadata": {},
     "output_type": "display_data"
    },
    {
     "data": {
      "text/html": [
       "Tracking run with wandb version 0.17.0"
      ],
      "text/plain": [
       "<IPython.core.display.HTML object>"
      ]
     },
     "metadata": {},
     "output_type": "display_data"
    },
    {
     "data": {
      "text/html": [
       "Run data is saved locally in <code>/Users/charleshiggins/Personal/CharlesPhD/CodeRepo/xai_intervention/RL-LRP/testing_sandbox/wandb/run-20240613_155308-8c6qnrfl</code>"
      ],
      "text/plain": [
       "<IPython.core.display.HTML object>"
      ]
     },
     "metadata": {},
     "output_type": "display_data"
    },
    {
     "data": {
      "text/html": [
       "Syncing run <strong><a href='https://wandb.ai/charles-higgins/reverse_LRP_mnist/runs/8c6qnrfl' target=\"_blank\">dry-cosmos-3</a></strong> to <a href='https://wandb.ai/charles-higgins/reverse_LRP_mnist' target=\"_blank\">Weights & Biases</a> (<a href='https://wandb.me/run' target=\"_blank\">docs</a>)<br/>"
      ],
      "text/plain": [
       "<IPython.core.display.HTML object>"
      ]
     },
     "metadata": {},
     "output_type": "display_data"
    },
    {
     "data": {
      "text/html": [
       " View project at <a href='https://wandb.ai/charles-higgins/reverse_LRP_mnist' target=\"_blank\">https://wandb.ai/charles-higgins/reverse_LRP_mnist</a>"
      ],
      "text/plain": [
       "<IPython.core.display.HTML object>"
      ]
     },
     "metadata": {},
     "output_type": "display_data"
    },
    {
     "data": {
      "text/html": [
       " View run at <a href='https://wandb.ai/charles-higgins/reverse_LRP_mnist/runs/8c6qnrfl' target=\"_blank\">https://wandb.ai/charles-higgins/reverse_LRP_mnist/runs/8c6qnrfl</a>"
      ],
      "text/plain": [
       "<IPython.core.display.HTML object>"
      ]
     },
     "metadata": {},
     "output_type": "display_data"
    },
    {
     "name": "stdout",
     "output_type": "stream",
     "text": [
      "Train Epoch: 1 [0/60000 (0%)]\tLoss: 2.319392\n",
      "Train Epoch: 1 [640/60000 (1%)]\tLoss: 1.069452\n",
      "Train Epoch: 1 [1280/60000 (2%)]\tLoss: 0.396833\n",
      "Train Epoch: 1 [1920/60000 (3%)]\tLoss: 0.589601\n",
      "Train Epoch: 1 [2560/60000 (4%)]\tLoss: 0.311520\n",
      "Train Epoch: 1 [3200/60000 (5%)]\tLoss: 0.316898\n",
      "Train Epoch: 1 [3840/60000 (6%)]\tLoss: 0.329788\n",
      "Train Epoch: 1 [4480/60000 (7%)]\tLoss: 0.185765\n",
      "Train Epoch: 1 [5120/60000 (9%)]\tLoss: 0.217727\n",
      "Train Epoch: 1 [5760/60000 (10%)]\tLoss: 0.202937\n",
      "Train Epoch: 1 [6400/60000 (11%)]\tLoss: 0.158754\n",
      "Train Epoch: 1 [7040/60000 (12%)]\tLoss: 0.154318\n",
      "Train Epoch: 1 [7680/60000 (13%)]\tLoss: 0.163675\n",
      "Train Epoch: 1 [8320/60000 (14%)]\tLoss: 0.268171\n",
      "Train Epoch: 1 [8960/60000 (15%)]\tLoss: 0.241389\n",
      "Train Epoch: 1 [9600/60000 (16%)]\tLoss: 0.104935\n",
      "Train Epoch: 1 [10240/60000 (17%)]\tLoss: 0.142075\n",
      "Train Epoch: 1 [10880/60000 (18%)]\tLoss: 0.144865\n",
      "Train Epoch: 1 [11520/60000 (19%)]\tLoss: 0.132237\n",
      "Train Epoch: 1 [12160/60000 (20%)]\tLoss: 0.117009\n",
      "Train Epoch: 1 [12800/60000 (21%)]\tLoss: 0.020907\n",
      "Train Epoch: 1 [13440/60000 (22%)]\tLoss: 0.077915\n",
      "Train Epoch: 1 [14080/60000 (23%)]\tLoss: 0.068059\n",
      "Train Epoch: 1 [14720/60000 (25%)]\tLoss: 0.125153\n",
      "Train Epoch: 1 [15360/60000 (26%)]\tLoss: 0.060734\n",
      "Train Epoch: 1 [16000/60000 (27%)]\tLoss: 0.182379\n",
      "Train Epoch: 1 [16640/60000 (28%)]\tLoss: 0.048006\n",
      "Train Epoch: 1 [17280/60000 (29%)]\tLoss: 0.041058\n",
      "Train Epoch: 1 [17920/60000 (30%)]\tLoss: 0.041648\n",
      "Train Epoch: 1 [18560/60000 (31%)]\tLoss: 0.154888\n",
      "Train Epoch: 1 [19200/60000 (32%)]\tLoss: 0.070010\n",
      "Train Epoch: 1 [19840/60000 (33%)]\tLoss: 0.034780\n",
      "Train Epoch: 1 [20480/60000 (34%)]\tLoss: 0.047743\n",
      "Train Epoch: 1 [21120/60000 (35%)]\tLoss: 0.034965\n",
      "Train Epoch: 1 [21760/60000 (36%)]\tLoss: 0.034506\n",
      "Train Epoch: 1 [22400/60000 (37%)]\tLoss: 0.021770\n",
      "Train Epoch: 1 [23040/60000 (38%)]\tLoss: 0.205316\n",
      "Train Epoch: 1 [23680/60000 (39%)]\tLoss: 0.154380\n",
      "Train Epoch: 1 [24320/60000 (41%)]\tLoss: 0.013247\n",
      "Train Epoch: 1 [24960/60000 (42%)]\tLoss: 0.124065\n",
      "Train Epoch: 1 [25600/60000 (43%)]\tLoss: 0.239320\n",
      "Train Epoch: 1 [26240/60000 (44%)]\tLoss: 0.090269\n",
      "Train Epoch: 1 [26880/60000 (45%)]\tLoss: 0.064974\n",
      "Train Epoch: 1 [27520/60000 (46%)]\tLoss: 0.036738\n",
      "Train Epoch: 1 [28160/60000 (47%)]\tLoss: 0.042104\n",
      "Train Epoch: 1 [28800/60000 (48%)]\tLoss: 0.043309\n",
      "Train Epoch: 1 [29440/60000 (49%)]\tLoss: 0.033061\n",
      "Train Epoch: 1 [30080/60000 (50%)]\tLoss: 0.070472\n",
      "Train Epoch: 1 [30720/60000 (51%)]\tLoss: 0.051356\n",
      "Train Epoch: 1 [31360/60000 (52%)]\tLoss: 0.016631\n",
      "Train Epoch: 1 [32000/60000 (53%)]\tLoss: 0.065243\n",
      "Train Epoch: 1 [32640/60000 (54%)]\tLoss: 0.050986\n",
      "Train Epoch: 1 [33280/60000 (55%)]\tLoss: 0.063828\n",
      "Train Epoch: 1 [33920/60000 (57%)]\tLoss: 0.013381\n",
      "Train Epoch: 1 [34560/60000 (58%)]\tLoss: 0.070932\n",
      "Train Epoch: 1 [35200/60000 (59%)]\tLoss: 0.078616\n",
      "Train Epoch: 1 [35840/60000 (60%)]\tLoss: 0.093963\n",
      "Train Epoch: 1 [36480/60000 (61%)]\tLoss: 0.124387\n",
      "Train Epoch: 1 [37120/60000 (62%)]\tLoss: 0.094276\n",
      "Train Epoch: 1 [37760/60000 (63%)]\tLoss: 0.145665\n",
      "Train Epoch: 1 [38400/60000 (64%)]\tLoss: 0.064265\n",
      "Train Epoch: 1 [39040/60000 (65%)]\tLoss: 0.085917\n",
      "Train Epoch: 1 [39680/60000 (66%)]\tLoss: 0.198781\n",
      "Train Epoch: 1 [40320/60000 (67%)]\tLoss: 0.029291\n",
      "Train Epoch: 1 [40960/60000 (68%)]\tLoss: 0.078375\n",
      "Train Epoch: 1 [41600/60000 (69%)]\tLoss: 0.059640\n",
      "Train Epoch: 1 [42240/60000 (70%)]\tLoss: 0.065312\n",
      "Train Epoch: 1 [42880/60000 (71%)]\tLoss: 0.018491\n",
      "Train Epoch: 1 [43520/60000 (72%)]\tLoss: 0.019732\n",
      "Train Epoch: 1 [44160/60000 (74%)]\tLoss: 0.012715\n",
      "Train Epoch: 1 [44800/60000 (75%)]\tLoss: 0.047053\n",
      "Train Epoch: 1 [45440/60000 (76%)]\tLoss: 0.034015\n",
      "Train Epoch: 1 [46080/60000 (77%)]\tLoss: 0.012618\n",
      "Train Epoch: 1 [46720/60000 (78%)]\tLoss: 0.052559\n",
      "Train Epoch: 1 [47360/60000 (79%)]\tLoss: 0.100054\n",
      "Train Epoch: 1 [48000/60000 (80%)]\tLoss: 0.119960\n",
      "Train Epoch: 1 [48640/60000 (81%)]\tLoss: 0.107008\n",
      "Train Epoch: 1 [49280/60000 (82%)]\tLoss: 0.065599\n",
      "Train Epoch: 1 [49920/60000 (83%)]\tLoss: 0.026236\n",
      "Train Epoch: 1 [50560/60000 (84%)]\tLoss: 0.026282\n",
      "Train Epoch: 1 [51200/60000 (85%)]\tLoss: 0.019131\n",
      "Train Epoch: 1 [51840/60000 (86%)]\tLoss: 0.021785\n",
      "Train Epoch: 1 [52480/60000 (87%)]\tLoss: 0.058020\n",
      "Train Epoch: 1 [53120/60000 (88%)]\tLoss: 0.017333\n",
      "Train Epoch: 1 [53760/60000 (90%)]\tLoss: 0.036535\n",
      "Train Epoch: 1 [54400/60000 (91%)]\tLoss: 0.038611\n",
      "Train Epoch: 1 [55040/60000 (92%)]\tLoss: 0.024219\n",
      "Train Epoch: 1 [55680/60000 (93%)]\tLoss: 0.042280\n",
      "Train Epoch: 1 [56320/60000 (94%)]\tLoss: 0.064501\n",
      "Train Epoch: 1 [56960/60000 (95%)]\tLoss: 0.153856\n",
      "Train Epoch: 1 [57600/60000 (96%)]\tLoss: 0.163895\n",
      "Train Epoch: 1 [58240/60000 (97%)]\tLoss: 0.152228\n",
      "Train Epoch: 1 [58880/60000 (98%)]\tLoss: 0.020601\n",
      "Train Epoch: 1 [59520/60000 (99%)]\tLoss: 0.057174\n",
      "Train Epoch: 2 [0/60000 (0%)]\tLoss: 0.036409\n",
      "Train Epoch: 2 [640/60000 (1%)]\tLoss: 0.048494\n",
      "Train Epoch: 2 [1280/60000 (2%)]\tLoss: 0.038055\n",
      "Train Epoch: 2 [1920/60000 (3%)]\tLoss: 0.009597\n",
      "Train Epoch: 2 [2560/60000 (4%)]\tLoss: 0.041770\n",
      "Train Epoch: 2 [3200/60000 (5%)]\tLoss: 0.067316\n",
      "Train Epoch: 2 [3840/60000 (6%)]\tLoss: 0.003006\n",
      "Train Epoch: 2 [4480/60000 (7%)]\tLoss: 0.029870\n",
      "Train Epoch: 2 [5120/60000 (9%)]\tLoss: 0.015983\n",
      "Train Epoch: 2 [5760/60000 (10%)]\tLoss: 0.070920\n",
      "Train Epoch: 2 [6400/60000 (11%)]\tLoss: 0.083958\n",
      "Train Epoch: 2 [7040/60000 (12%)]\tLoss: 0.069654\n",
      "Train Epoch: 2 [7680/60000 (13%)]\tLoss: 0.100840\n",
      "Train Epoch: 2 [8320/60000 (14%)]\tLoss: 0.032293\n",
      "Train Epoch: 2 [8960/60000 (15%)]\tLoss: 0.037519\n",
      "Train Epoch: 2 [9600/60000 (16%)]\tLoss: 0.005154\n",
      "Train Epoch: 2 [10240/60000 (17%)]\tLoss: 0.034925\n",
      "Train Epoch: 2 [10880/60000 (18%)]\tLoss: 0.004250\n",
      "Train Epoch: 2 [11520/60000 (19%)]\tLoss: 0.026430\n",
      "Train Epoch: 2 [12160/60000 (20%)]\tLoss: 0.069646\n",
      "Train Epoch: 2 [12800/60000 (21%)]\tLoss: 0.095240\n",
      "Train Epoch: 2 [13440/60000 (22%)]\tLoss: 0.017187\n",
      "Train Epoch: 2 [14080/60000 (23%)]\tLoss: 0.063880\n",
      "Train Epoch: 2 [14720/60000 (25%)]\tLoss: 0.080157\n",
      "Train Epoch: 2 [15360/60000 (26%)]\tLoss: 0.002900\n",
      "Train Epoch: 2 [16000/60000 (27%)]\tLoss: 0.041092\n",
      "Train Epoch: 2 [16640/60000 (28%)]\tLoss: 0.027719\n",
      "Train Epoch: 2 [17280/60000 (29%)]\tLoss: 0.009414\n",
      "Train Epoch: 2 [17920/60000 (30%)]\tLoss: 0.008236\n",
      "Train Epoch: 2 [18560/60000 (31%)]\tLoss: 0.093048\n",
      "Train Epoch: 2 [19200/60000 (32%)]\tLoss: 0.052085\n",
      "Train Epoch: 2 [19840/60000 (33%)]\tLoss: 0.074295\n",
      "Train Epoch: 2 [20480/60000 (34%)]\tLoss: 0.016394\n",
      "Train Epoch: 2 [21120/60000 (35%)]\tLoss: 0.004937\n",
      "Train Epoch: 2 [21760/60000 (36%)]\tLoss: 0.007545\n",
      "Train Epoch: 2 [22400/60000 (37%)]\tLoss: 0.024117\n",
      "Train Epoch: 2 [23040/60000 (38%)]\tLoss: 0.002202\n",
      "Train Epoch: 2 [23680/60000 (39%)]\tLoss: 0.032609\n",
      "Train Epoch: 2 [24320/60000 (41%)]\tLoss: 0.064932\n",
      "Train Epoch: 2 [24960/60000 (42%)]\tLoss: 0.019528\n",
      "Train Epoch: 2 [25600/60000 (43%)]\tLoss: 0.035672\n",
      "Train Epoch: 2 [26240/60000 (44%)]\tLoss: 0.022337\n",
      "Train Epoch: 2 [26880/60000 (45%)]\tLoss: 0.049525\n",
      "Train Epoch: 2 [27520/60000 (46%)]\tLoss: 0.008622\n",
      "Train Epoch: 2 [28160/60000 (47%)]\tLoss: 0.026233\n",
      "Train Epoch: 2 [28800/60000 (48%)]\tLoss: 0.032805\n",
      "Train Epoch: 2 [29440/60000 (49%)]\tLoss: 0.024185\n",
      "Train Epoch: 2 [30080/60000 (50%)]\tLoss: 0.074672\n",
      "Train Epoch: 2 [30720/60000 (51%)]\tLoss: 0.005054\n",
      "Train Epoch: 2 [31360/60000 (52%)]\tLoss: 0.045823\n",
      "Train Epoch: 2 [32000/60000 (53%)]\tLoss: 0.061792\n",
      "Train Epoch: 2 [32640/60000 (54%)]\tLoss: 0.065715\n",
      "Train Epoch: 2 [33280/60000 (55%)]\tLoss: 0.083712\n",
      "Train Epoch: 2 [33920/60000 (57%)]\tLoss: 0.006315\n",
      "Train Epoch: 2 [34560/60000 (58%)]\tLoss: 0.031672\n",
      "Train Epoch: 2 [35200/60000 (59%)]\tLoss: 0.054853\n",
      "Train Epoch: 2 [35840/60000 (60%)]\tLoss: 0.004771\n",
      "Train Epoch: 2 [36480/60000 (61%)]\tLoss: 0.030650\n",
      "Train Epoch: 2 [37120/60000 (62%)]\tLoss: 0.004053\n",
      "Train Epoch: 2 [37760/60000 (63%)]\tLoss: 0.020762\n",
      "Train Epoch: 2 [38400/60000 (64%)]\tLoss: 0.073846\n",
      "Train Epoch: 2 [39040/60000 (65%)]\tLoss: 0.001554\n",
      "Train Epoch: 2 [39680/60000 (66%)]\tLoss: 0.063230\n",
      "Train Epoch: 2 [40320/60000 (67%)]\tLoss: 0.109506\n",
      "Train Epoch: 2 [40960/60000 (68%)]\tLoss: 0.024768\n",
      "Train Epoch: 2 [41600/60000 (69%)]\tLoss: 0.126531\n",
      "Train Epoch: 2 [42240/60000 (70%)]\tLoss: 0.042029\n",
      "Train Epoch: 2 [42880/60000 (71%)]\tLoss: 0.018577\n",
      "Train Epoch: 2 [43520/60000 (72%)]\tLoss: 0.014603\n",
      "Train Epoch: 2 [44160/60000 (74%)]\tLoss: 0.008672\n",
      "Train Epoch: 2 [44800/60000 (75%)]\tLoss: 0.027968\n",
      "Train Epoch: 2 [45440/60000 (76%)]\tLoss: 0.016801\n",
      "Train Epoch: 2 [46080/60000 (77%)]\tLoss: 0.005866\n",
      "Train Epoch: 2 [46720/60000 (78%)]\tLoss: 0.030830\n",
      "Train Epoch: 2 [47360/60000 (79%)]\tLoss: 0.075250\n",
      "Train Epoch: 2 [48000/60000 (80%)]\tLoss: 0.049682\n",
      "Train Epoch: 2 [48640/60000 (81%)]\tLoss: 0.025990\n",
      "Train Epoch: 2 [49280/60000 (82%)]\tLoss: 0.026436\n",
      "Train Epoch: 2 [49920/60000 (83%)]\tLoss: 0.142690\n",
      "Train Epoch: 2 [50560/60000 (84%)]\tLoss: 0.005902\n",
      "Train Epoch: 2 [51200/60000 (85%)]\tLoss: 0.002705\n",
      "Train Epoch: 2 [51840/60000 (86%)]\tLoss: 0.036927\n",
      "Stopping early: Reached 99.01% accuracy\n"
     ]
    },
    {
     "data": {
      "text/html": [
       "<style>\n",
       "    table.wandb td:nth-child(1) { padding: 0 10px; text-align: left ; width: auto;} td:nth-child(2) {text-align: left ; width: 100%}\n",
       "    .wandb-row { display: flex; flex-direction: row; flex-wrap: wrap; justify-content: flex-start; width: 100% }\n",
       "    .wandb-col { display: flex; flex-direction: column; flex-basis: 100%; flex: 1; padding: 10px; }\n",
       "    </style>\n",
       "<div class=\"wandb-row\"><div class=\"wandb-col\"><h3>Run history:</h3><br/><table class=\"wandb\"><tr><td>Test Accuracy</td><td>▁▆▇▇▇███████████████████████████████████</td></tr><tr><td>Test Loss</td><td>█▃▂▂▂▂▁▁▁▁▁▁▁▁▁▁▁▁▁▁▁▁▁▁▁▁▁▁▁▁▁▁▁▁▁▁▁▁▁▁</td></tr><tr><td>Train Loss</td><td>█▅▂▂▂▂▁▂▁▁▂▁▂▁▁▂▁▁▁▁▂▂▁▁▁▂▂▂▁▁▁▁▁▁▁▁▁▁▂▁</td></tr></table><br/></div><div class=\"wandb-col\"><h3>Run summary:</h3><br/><table class=\"wandb\"><tr><td>Test Accuracy</td><td>99.01</td></tr><tr><td>Test Loss</td><td>3e-05</td></tr><tr><td>Train Loss</td><td>0.03693</td></tr></table><br/></div></div>"
      ],
      "text/plain": [
       "<IPython.core.display.HTML object>"
      ]
     },
     "metadata": {},
     "output_type": "display_data"
    },
    {
     "data": {
      "text/html": [
       " View run <strong style=\"color:#cdcd00\">dry-cosmos-3</strong> at: <a href='https://wandb.ai/charles-higgins/reverse_LRP_mnist/runs/8c6qnrfl' target=\"_blank\">https://wandb.ai/charles-higgins/reverse_LRP_mnist/runs/8c6qnrfl</a><br/> View project at: <a href='https://wandb.ai/charles-higgins/reverse_LRP_mnist' target=\"_blank\">https://wandb.ai/charles-higgins/reverse_LRP_mnist</a><br/>Synced 6 W&B file(s), 0 media file(s), 0 artifact file(s) and 0 other file(s)"
      ],
      "text/plain": [
       "<IPython.core.display.HTML object>"
      ]
     },
     "metadata": {},
     "output_type": "display_data"
    },
    {
     "data": {
      "text/html": [
       "Find logs at: <code>./wandb/run-20240613_155308-8c6qnrfl/logs</code>"
      ],
      "text/plain": [
       "<IPython.core.display.HTML object>"
      ]
     },
     "metadata": {},
     "output_type": "display_data"
    }
   ],
   "source": [
    "import torch\n",
    "import torch.nn as nn\n",
    "import torch.optim as optim\n",
    "from torchvision import datasets, transforms\n",
    "from torch.utils.data import DataLoader\n",
    "import wandb\n",
    "\n",
    "# Initialize wandb\n",
    "wandb.init(project=\"reverse_LRP_mnist\")\n",
    "\n",
    "# Define the neural network architecture\n",
    "class SimpleNet(nn.Module):\n",
    "    def __init__(self):\n",
    "        super(SimpleNet, self).__init__()\n",
    "        self.conv1 = nn.Conv2d(1, 32, kernel_size=3, padding=1)\n",
    "        self.conv2 = nn.Conv2d(32, 64, kernel_size=3, padding=1)\n",
    "        self.fc1 = nn.Linear(64 * 7 * 7, 128)\n",
    "        self.fc2 = nn.Linear(128, 10)\n",
    "\n",
    "    def forward(self, x):\n",
    "        # Convolution 1\n",
    "        x = self.conv1(x)\n",
    "        x = nn.ReLU()(x)\n",
    "        x = nn.MaxPool2d(2, 2)(x)\n",
    "        \n",
    "        # Convolution 2\n",
    "        x = self.conv2(x)\n",
    "        x = nn.ReLU()(x)\n",
    "        x = nn.MaxPool2d(2, 2)(x)\n",
    "\n",
    "        # Flatten the output for the dense layer\n",
    "        x = x.view(-1, 64 * 7 * 7)\n",
    "        \n",
    "        # Dense layer\n",
    "        x = self.fc1(x)\n",
    "        x = nn.ReLU()(x)\n",
    "        \n",
    "        # Output layer\n",
    "        x = self.fc2(x)\n",
    "        return x\n",
    "\n",
    "# Load and transform the MNIST dataset\n",
    "transform = transforms.Compose([\n",
    "    transforms.ToTensor(),\n",
    "    transforms.Normalize((0.1307,), (0.3081,))\n",
    "])\n",
    "\n",
    "train_dataset = datasets.MNIST('./data', train=True, download=True, transform=transform)\n",
    "test_dataset = datasets.MNIST('./data', train=False, download=True, transform=transform)\n",
    "\n",
    "train_loader = DataLoader(train_dataset, batch_size=64, shuffle=True)\n",
    "test_loader = DataLoader(test_dataset, batch_size=1000, shuffle=False)\n",
    "\n",
    "# Initialize the network and optimizer\n",
    "model = SimpleNet()\n",
    "optimizer = optim.Adam(model.parameters(), lr=0.001)\n",
    "criterion = nn.CrossEntropyLoss()\n",
    "\n",
    "# Define the device\n",
    "device = torch.device(\"cuda\" if torch.cuda.is_available() else \"cpu\")\n",
    "model.to(device)\n",
    "\n",
    "# Function to test the model\n",
    "def test(model, device, test_loader):\n",
    "    model.eval()\n",
    "    test_loss = 0\n",
    "    correct = 0\n",
    "    with torch.no_grad():\n",
    "        for data, target in test_loader:\n",
    "            data, target = data.to(device), target.to(device)\n",
    "            output = model(data)\n",
    "            test_loss += criterion(output, target).item()  # sum up batch loss\n",
    "            pred = output.argmax(dim=1, keepdim=True)  # get the index of the max log-probability\n",
    "            correct += pred.eq(target.view_as(pred)).sum().item()\n",
    "\n",
    "    test_loss /= len(test_loader.dataset)\n",
    "    accuracy = 100. * correct / len(test_loader.dataset)\n",
    "    wandb.log({\"Test Accuracy\": accuracy, \"Test Loss\": test_loss})\n",
    "    return accuracy\n",
    "\n",
    "# Training the model with early stopping\n",
    "def train(model, device, train_loader, optimizer, epoch, target_accuracy=99.0):\n",
    "    model.train()\n",
    "    for batch_idx, (data, target) in enumerate(train_loader):\n",
    "        data, target = data.to(device), target.to(device)\n",
    "        optimizer.zero_grad()\n",
    "        output = model(data)\n",
    "        loss = criterion(output, target)\n",
    "        loss.backward()\n",
    "        optimizer.step()\n",
    "        \n",
    "        wandb.log({\"Train Loss\": loss.item()})\n",
    "\n",
    "        if batch_idx % 10 == 0:\n",
    "            print(f'Train Epoch: {epoch} [{batch_idx * len(data)}/{len(train_loader.dataset)} ({100. * batch_idx / len(train_loader):.0f}%)]\\tLoss: {loss.item():.6f}')\n",
    "    \n",
    "            accuracy = test(model, device, test_loader)\n",
    "            wandb.log({\"Test Accuracy\": accuracy})\n",
    "            if accuracy >= target_accuracy:\n",
    "                print(f\"Stopping early: Reached {accuracy:.2f}% accuracy\")\n",
    "                return True\n",
    "    return False\n",
    "\n",
    "# Run training\n",
    "for epoch in range(1, 11):  # 10\n",
    "    if train(model, device, train_loader, optimizer, epoch):\n",
    "        break\n",
    "    \n",
    "wandb.finish()\n"
   ]
  },
  {
   "cell_type": "code",
   "execution_count": null,
   "metadata": {},
   "outputs": [],
   "source": []
  }
 ],
 "metadata": {
  "kernelspec": {
   "display_name": "minatar",
   "language": "python",
   "name": "python3"
  },
  "language_info": {
   "codemirror_mode": {
    "name": "ipython",
    "version": 3
   },
   "file_extension": ".py",
   "mimetype": "text/x-python",
   "name": "python",
   "nbconvert_exporter": "python",
   "pygments_lexer": "ipython3",
   "version": "3.10.14"
  }
 },
 "nbformat": 4,
 "nbformat_minor": 2
}
