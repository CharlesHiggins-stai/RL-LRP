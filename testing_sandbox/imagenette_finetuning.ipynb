{
 "cells": [
  {
   "cell_type": "markdown",
   "metadata": {},
   "source": [
    "# LRP Fine tuning\n",
    "The objective of this notebook is to demonstrate that one can optimise a network post training. \n",
    "We demonstrate here that by incorporating attention information, we can improve the quality of models. \n",
    "This has several steps: \n",
    "- Download the Imagenette dataset (we use this rather than the full imagenet as it is considerably more lightweight)\n",
    "- Download two pre-trained models on Imagenet (from the VGG family)\n",
    "- Evaluate the quality of the models on the dataset. \n",
    "- Use the better performing model as the \"teacher model\" \n",
    "- Attempt to improve the learner model using the teacher's heatmaps. \n",
    "- Periodically evaluate performance\n",
    " "
   ]
  },
  {
   "cell_type": "code",
   "execution_count": null,
   "metadata": {},
   "outputs": [],
   "source": [
    "def get_imagenette(path = \"./data\"):\n",
    "    \"\"\"Download the imagenette dataset to data dir\"\"\"\n",
    "    \n",
    "def get_vgg16():\n",
    "    \"\"\"Download a pretrained vgg16 on Imagenet\"\"\"\n",
    "    \n",
    "def get_vgg19():\n",
    "    \"\"\" Download a pretrained vgg19 on Imagenet\"\"\"\n",
    "    \n",
    "def \n"
   ]
  }
 ],
 "metadata": {
  "kernelspec": {
   "display_name": "rl_lrp",
   "language": "python",
   "name": "python3"
  },
  "language_info": {
   "name": "python",
   "version": "3.11.9"
  }
 },
 "nbformat": 4,
 "nbformat_minor": 2
}
