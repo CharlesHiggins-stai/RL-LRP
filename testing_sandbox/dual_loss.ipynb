{
 "cells": [
  {
   "cell_type": "code",
   "execution_count": 3,
   "metadata": {},
   "outputs": [
    {
     "name": "stdout",
     "output_type": "stream",
     "text": [
      "/home/tromero_client/RL-LRP/testing_sandbox\n"
     ]
    }
   ],
   "source": [
    "!pwd"
   ]
  },
  {
   "cell_type": "code",
   "execution_count": 4,
   "metadata": {},
   "outputs": [],
   "source": [
    "\n",
    "import sys\n",
    "sys.path.append('/home/tromero_client/RL-LRP')\n",
    "import torch\n",
    "import torch.nn as nn\n",
    "import torch.optim as optim\n",
    "from torchvision import datasets, transforms\n",
    "from torch.utils.data import DataLoader\n",
    "from experiments import SimpleRNet, apply_threshold, CosineDistanceLoss, ManualCNN\n",
    "from matplotlib import pyplot as plt\n",
    "import numpy as np\n",
    "# comment out when running locally\n",
    "from experiments import WrapperNet\n",
    "# comment out when running locally            "
   ]
  },
  {
   "cell_type": "code",
   "execution_count": 5,
   "metadata": {},
   "outputs": [],
   "source": [
    "def train_outer_model(wrapped_model, optimizer, criterion, train_loader, device, attention_function):\n",
    "    total_loss = 0\n",
    "    wrapped_model.train()\n",
    "    for _ in range(10):\n",
    "        data, target = next(iter(train_loader))\n",
    "        data, target = data.to(device), target.to(device)\n",
    "        target_map = attention_function(data, threshold=0.95) # threshold is 0.99\n",
    "        optimizer.zero_grad()\n",
    "        output = wrapped_model(data, target)\n",
    "        loss = criterion(output, target_map)\n",
    "        loss.backward()\n",
    "        optimizer.step()\n",
    "        total_loss += loss.item()\n",
    "    return total_loss\n",
    "\n",
    "def test_outer_model(wrapped_model, criterion, test_loader, device, attention_function):\n",
    "    wrapped_model.eval()\n",
    "    test_loss = 0\n",
    "    with torch.no_grad():\n",
    "        for data, target in test_loader:\n",
    "            data, target = data.to(device), target.to(device)\n",
    "            target_map = attention_function(data, threshold=0.95)\n",
    "            output = wrapped_model(data, target)\n",
    "            test_loss += criterion(output, target_map).item()\n",
    "    test_loss /= len(test_loader.dataset)\n",
    "    return test_loss    \n",
    "\n",
    "def plot_heatmap_comparison(wrapped_model, test_loader, device, attention_function, epoch):\n",
    "    data, target = next(iter(test_loader))\n",
    "    target_map = attention_function(data, threshold=0.95)\n",
    "    output = wrapped_model(data.to(device), target.to(device))\n",
    "    num = np.random.randint(0, len(target))\n",
    "    fig, axes = plt.subplots(1, 2)\n",
    "    axes[0].imshow(output[num][0].detach().numpy(), cmap='hot')\n",
    "    axes[0].set_title(f'LRP Output after {epoch} iterations')\n",
    "    axes[1].imshow(target_map[num][0], cmap='hot')\n",
    "    axes[1].set_title('Original Image')\n",
    "    plt.show()"
   ]
  },
  {
   "cell_type": "code",
   "execution_count": 6,
   "metadata": {},
   "outputs": [],
   "source": [
    "def train_inner_model(model_inner, optimizer, criterion, train_loader, device):\n",
    "    model_inner.train()\n",
    "    total_loss = 0\n",
    "    for _ in range(10):\n",
    "        data, target = next(iter(train_loader))\n",
    "        data, target = data.to(device), target.to(device)\n",
    "        optimizer.zero_grad()\n",
    "        output = model_inner(data)\n",
    "        loss = criterion(output, target)\n",
    "        loss.backward()\n",
    "        optimizer.step()\n",
    "        total_loss += loss.item()\n",
    "    return total_loss\n",
    "\n",
    "def test_inner_model(model_inner, criterion, test_loader, device):\n",
    "    model_inner.eval()\n",
    "    test_loss = 0\n",
    "    correct = 0\n",
    "    with torch.no_grad():\n",
    "        for data, target in test_loader:\n",
    "            data, target = data.to(device), target.to(device)\n",
    "            output = model_inner(data)\n",
    "            test_loss += criterion(output, target).item()\n",
    "            correct += output.argmax(dim=1).eq(target).sum().item()\n",
    "    test_loss /= len(test_loader.dataset)\n",
    "    accuracy = (correct / len(test_loader.dataset)) * 100\n",
    "    return test_loss, accuracy"
   ]
  },
  {
   "cell_type": "code",
   "execution_count": 7,
   "metadata": {},
   "outputs": [
    {
     "name": "stdout",
     "output_type": "stream",
     "text": [
      "Epoch 0 Inner Test Loss: 0.014048929339647293; Inner Accuracy: 71.78999999999999; Inner Train Loss: 16.343671441078186\n",
      "Epoch 0 Outer Train Session\n",
      "Epoch 0 Outer Train Loss: 7.815455198287964\n",
      "Epoch 0 Inner Test Loss pre outer training: 0.01403921348452568 Inner Accuracy pre outer training: 71.78999999999999\n",
      "Epoch 0 Inner Test Loss post outer training: 0.01404129478931427 Inner Accuracy post outer training: 71.71\n",
      "Epoch 0: Inner Loss Delta 2.0813047885894637e-06; Inner Accuracy Delta -0.0799999999999983\n"
     ]
    },
    {
     "ename": "TypeError",
     "evalue": "can't convert cuda:0 device type tensor to numpy. Use Tensor.cpu() to copy the tensor to host memory first.",
     "output_type": "error",
     "traceback": [
      "\u001b[0;31m---------------------------------------------------------------------------\u001b[0m",
      "\u001b[0;31mTypeError\u001b[0m                                 Traceback (most recent call last)",
      "Cell \u001b[0;32mIn[7], line 56\u001b[0m\n\u001b[1;32m     54\u001b[0m     model_inner\u001b[38;5;241m.\u001b[39mload_state_dict(model_outer\u001b[38;5;241m.\u001b[39mmodel\u001b[38;5;241m.\u001b[39mstate_dict())\n\u001b[1;32m     55\u001b[0m \u001b[38;5;28;01mif\u001b[39;00m x \u001b[38;5;241m%\u001b[39m VISUALIZE_FREQ \u001b[38;5;241m==\u001b[39m \u001b[38;5;241m0\u001b[39m:\n\u001b[0;32m---> 56\u001b[0m     \u001b[43mplot_heatmap_comparison\u001b[49m\u001b[43m(\u001b[49m\u001b[43mmodel_outer\u001b[49m\u001b[43m,\u001b[49m\u001b[43m \u001b[49m\u001b[43mtest_loader\u001b[49m\u001b[43m,\u001b[49m\u001b[43m \u001b[49m\u001b[43mdevice\u001b[49m\u001b[43m,\u001b[49m\u001b[43m \u001b[49m\u001b[43mapply_threshold\u001b[49m\u001b[43m,\u001b[49m\u001b[43m \u001b[49m\u001b[43mx\u001b[49m\u001b[43m)\u001b[49m\n",
      "Cell \u001b[0;32mIn[5], line 34\u001b[0m, in \u001b[0;36mplot_heatmap_comparison\u001b[0;34m(wrapped_model, test_loader, device, attention_function, epoch)\u001b[0m\n\u001b[1;32m     32\u001b[0m num \u001b[38;5;241m=\u001b[39m np\u001b[38;5;241m.\u001b[39mrandom\u001b[38;5;241m.\u001b[39mrandint(\u001b[38;5;241m0\u001b[39m, \u001b[38;5;28mlen\u001b[39m(target))\n\u001b[1;32m     33\u001b[0m fig, axes \u001b[38;5;241m=\u001b[39m plt\u001b[38;5;241m.\u001b[39msubplots(\u001b[38;5;241m1\u001b[39m, \u001b[38;5;241m2\u001b[39m)\n\u001b[0;32m---> 34\u001b[0m axes[\u001b[38;5;241m0\u001b[39m]\u001b[38;5;241m.\u001b[39mimshow(\u001b[43moutput\u001b[49m\u001b[43m[\u001b[49m\u001b[43mnum\u001b[49m\u001b[43m]\u001b[49m\u001b[43m[\u001b[49m\u001b[38;5;241;43m0\u001b[39;49m\u001b[43m]\u001b[49m\u001b[38;5;241;43m.\u001b[39;49m\u001b[43mdetach\u001b[49m\u001b[43m(\u001b[49m\u001b[43m)\u001b[49m\u001b[38;5;241;43m.\u001b[39;49m\u001b[43mnumpy\u001b[49m\u001b[43m(\u001b[49m\u001b[43m)\u001b[49m, cmap\u001b[38;5;241m=\u001b[39m\u001b[38;5;124m'\u001b[39m\u001b[38;5;124mhot\u001b[39m\u001b[38;5;124m'\u001b[39m)\n\u001b[1;32m     35\u001b[0m axes[\u001b[38;5;241m0\u001b[39m]\u001b[38;5;241m.\u001b[39mset_title(\u001b[38;5;124mf\u001b[39m\u001b[38;5;124m'\u001b[39m\u001b[38;5;124mLRP Output after \u001b[39m\u001b[38;5;132;01m{\u001b[39;00mepoch\u001b[38;5;132;01m}\u001b[39;00m\u001b[38;5;124m iterations\u001b[39m\u001b[38;5;124m'\u001b[39m)\n\u001b[1;32m     36\u001b[0m axes[\u001b[38;5;241m1\u001b[39m]\u001b[38;5;241m.\u001b[39mimshow(target_map[num][\u001b[38;5;241m0\u001b[39m], cmap\u001b[38;5;241m=\u001b[39m\u001b[38;5;124m'\u001b[39m\u001b[38;5;124mhot\u001b[39m\u001b[38;5;124m'\u001b[39m)\n",
      "\u001b[0;31mTypeError\u001b[0m: can't convert cuda:0 device type tensor to numpy. Use Tensor.cpu() to copy the tensor to host memory first."
     ]
    },
    {
     "data": {
      "image/png": "[encoded data removed]",
      "text/plain": [
       "<Figure size 640x480 with 2 Axes>"
      ]
     },
     "metadata": {},
     "output_type": "display_data"
    }
   ],
   "source": [
    "\n",
    "# define device for GPU compatibility\n",
    "device = torch.device(\"cuda\" if torch.cuda.is_available() else \"cpu\")\n",
    "\n",
    "# Load and transform datasets\n",
    "transform = transforms.Compose([\n",
    "    transforms.ToTensor(),\n",
    "    transforms.Normalize((0.1307,), (0.3081,))\n",
    "])\n",
    "train_dataset = datasets.MNIST('./data', train=True, download=True, transform=transform)\n",
    "test_dataset = datasets.MNIST('./data', train=False, download=True, transform=transform)\n",
    "train_loader = DataLoader(train_dataset, batch_size=64, shuffle=True)\n",
    "test_loader = DataLoader(test_dataset, batch_size=64, shuffle=True)\n",
    "\n",
    "# Initialize the network and optimizer for the underlying network\n",
    "model_inner = SimpleRNet()\n",
    "optimizer_inner = optim.Adam(model_inner.parameters(), lr=1e-3)\n",
    "# now wrap the network in the LRP class\n",
    "model_outer = WrapperNet(SimpleRNet())\n",
    "optimizer_outer = optim.Adam(model_outer.parameters(), lr=1e-6)\n",
    "\n",
    "# define the loss functions for each\n",
    "criterion_outer = CosineDistanceLoss()\n",
    "criterion_inner = nn.CrossEntropyLoss()\n",
    "\n",
    "# Move to device\n",
    "model_inner.to(device)\n",
    "model_outer.to(device)\n",
    "\n",
    "EPOCHS = 100\n",
    "OUTER_TRAIN_FREQ = 1\n",
    "VISUALIZE_FREQ = 5\n",
    "for x in range(EPOCHS):\n",
    "    # syncronise parameters to get latest params from outer model\n",
    "    # so that we can train the inner model\n",
    "    model_inner.load_state_dict(model_outer.model.state_dict())\n",
    "    inner_train_loss  = train_inner_model(model_inner, optimizer_inner, criterion_inner, train_loader, device)\n",
    "    inner_test_loss, inner_accuracy = test_inner_model(model_inner, criterion_inner, test_loader, device)\n",
    "    print(f\"Epoch {x} Inner Test Loss: {inner_test_loss}; Inner Accuracy: {inner_accuracy}; Inner Train Loss: {inner_train_loss}\")\n",
    "    # make sure to then upload these into the outer model\n",
    "    # so that we can then train the outer model and see the changes tthat h\n",
    "    model_outer.model.load_state_dict(model_inner.state_dict())\n",
    "    if x % OUTER_TRAIN_FREQ == 0:\n",
    "        # belt and braces approach sync parameters again\n",
    "        model_outer.model.load_state_dict(model_inner.state_dict())\n",
    "        outer_train_loss = train_outer_model(model_outer, optimizer_outer, criterion_outer, train_loader, device, apply_threshold)\n",
    "        print(f'Epoch {x} Outer Train Session')\n",
    "        print(f'Epoch {x} Outer Train Loss: {outer_train_loss}')\n",
    "        inner_test_loss, inner_accuracy = test_inner_model(model_outer.model, criterion_inner, test_loader, device)\n",
    "        prev_test_loss, prev_inner_accuracy = test_inner_model(model_inner, criterion_inner, test_loader, device)\n",
    "        print(f\"Epoch {x} Inner Test Loss pre outer training: {prev_test_loss} Inner Accuracy pre outer training: {prev_inner_accuracy}\")\n",
    "        print(f\"Epoch {x} Inner Test Loss post outer training: {inner_test_loss} Inner Accuracy post outer training: {inner_accuracy}\")\n",
    "        print(f\"Epoch {x}: Inner Loss Delta {inner_test_loss - prev_test_loss}; Inner Accuracy Delta {inner_accuracy - prev_inner_accuracy}\")\n",
    "        # finally sync params at end of outer training loop\n",
    "        model_inner.load_state_dict(model_outer.model.state_dict())\n",
    "    if x % VISUALIZE_FREQ == 0:\n",
    "        plot_heatmap_comparison(model_outer, test_loader, device, apply_threshold, x)"
   ]
  },
  {
   "cell_type": "code",
   "execution_count": null,
   "metadata": {},
   "outputs": [],
   "source": []
  }
 ],
 "metadata": {
  "kernelspec": {
   "display_name": "minatar",
   "language": "python",
   "name": "python3"
  },
  "language_info": {
   "codemirror_mode": {
    "name": "ipython",
    "version": 3
   },
   "file_extension": ".py",
   "mimetype": "text/x-python",
   "name": "python",
   "nbconvert_exporter": "python",
   "pygments_lexer": "ipython3",
   "version": "3.10.14"
  }
 },
 "nbformat": 4,
 "nbformat_minor": 2
}
