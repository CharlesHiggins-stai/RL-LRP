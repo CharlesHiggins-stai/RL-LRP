{
 "cells": [
  {
   "cell_type": "code",
   "execution_count": null,
   "metadata": {},
   "outputs": [],
   "source": [
    "\n",
    "import sys\n",
    "sys.path.append('/Users/charleshiggins/Personal/CharlesPhD/CodeRepo/xai_intervention/RL-LRP/')"
   ]
  },
  {
   "cell_type": "code",
   "execution_count": null,
   "metadata": {},
   "outputs": [],
   "source": [
    "import torch\n",
    "import torch.nn as nn\n",
    "import torch.nn.functional as F\n",
    "from contextlib import contextmanager\n",
    "from experiments import reverse_layer, diff_softmax"
   ]
  },
  {
   "cell_type": "code",
   "execution_count": null,
   "metadata": {},
   "outputs": [],
   "source": [
    "def run_test_on_inner_net(inner_model, test_loader):\n",
    "    device = torch.device(\"cuda\" if torch.cuda.is_available() else \"cpu\")\n",
    "    inner_model.eval()\n",
    "    test_loss = 0\n",
    "    correct = 0\n",
    "    with torch.no_grad():\n",
    "        data, target = next(iter(test_loader))\n",
    "        data, target = data.to(device), target.to(device)\n",
    "        output = inner_model(data)\n",
    "        print(output.shape, target.shape)\n",
    "        test_loss = nn.functional.cross_entropy(output, target).item()\n",
    "        pred = output.argmax(dim=1, keepdim=False)\n",
    "        print(pred.shape, target.shape)\n",
    "        print(pred, target)\n",
    "        correct += pred.eq(target.view_as(pred)).sum().item()\n",
    "    test_loss /= len(test_loader.dataset)\n",
    "    print(f'\\nTest set: Average loss: {test_loss:.4f}, Accuracy: {correct}/{len(target)} ({100. * correct / len(target):.0f}%)\\n')\n",
    "    return"
   ]
  },
  {
   "cell_type": "code",
   "execution_count": null,
   "metadata": {},
   "outputs": [],
   "source": [
    "import torch\n",
    "import torch.nn as nn\n",
    "import torch.optim as optim\n",
    "from torchvision import datasets, transforms\n",
    "from torch.utils.data import DataLoader\n",
    "from experiments import SimpleRNet, apply_threshold, CosineDistanceLoss, ManualCNN\n",
    "from matplotlib import pyplot as plt\n",
    "import numpy as np\n",
    "# comment out when running locally\n",
    "from experiments import WrapperNet\n",
    "# comment out when running locally\n",
    "\n",
    "transform = transforms.Compose([\n",
    "    transforms.ToTensor(),\n",
    "    transforms.Normalize((0.1307,), (0.3081,))\n",
    "])\n",
    "\n",
    "train_dataset = datasets.MNIST('./data', train=True, download=True, transform=transform)\n",
    "test_dataset = datasets.MNIST('./data', train=False, download=True, transform=transform)\n",
    "\n",
    "train_loader = DataLoader(train_dataset, batch_size=64, shuffle=True)\n",
    "test_loader = DataLoader(test_dataset, batch_size=64, shuffle=True)\n",
    "\n",
    "# Initialize the network and optimizer for the underlying network\n",
    "model = WrapperNet(SimpleRNet())\n",
    "optimizer = optim.Adam(model.parameters(), lr=1e-4)\n",
    "# now wrap the network in the LRP class\n",
    "criterion = CosineDistanceLoss()\n",
    "\n",
    "# Define the device\n",
    "device = torch.device(\"cuda\" if torch.cuda.is_available() else \"cpu\")\n",
    "model.to(device)\n",
    "\n",
    "\n",
    "# over_train_data, over_train_target = data[:1,:,:,:], target[:1]  # Get a single image and target\n",
    "# # expand so we repeat the same input to a batch size of 64\n",
    "# over_train_data, over_train_target = over_train_data.expand(64, 1, 28, 28), over_train_target.expand(64)\n",
    "\n",
    "model.train()\n",
    "for x in range(1000):\n",
    "    model.train()\n",
    "    data, target = next(iter(train_loader))\n",
    "    data, target = data.to(device), target.to(device)\n",
    "    target_map = apply_threshold(data, threshold=0.99)\n",
    "    optimizer.zero_grad()\n",
    "    # print(target.unsqueeze(1))\n",
    "    output = model(data, target)\n",
    "    # print(output.shape, target_map.shape) \n",
    "    loss = criterion(output, target_map)\n",
    "    loss.backward()\n",
    "    optimizer.step()\n",
    "    \n",
    "    if x % 10 == 0:\n",
    "        print(f'Train Epoch: [{x * len(data)}/{len(train_loader.dataset)} ({100. * x / len(train_loader):.0f}%)]\\tLoss: {loss.item():.6f}')\n",
    "    if x % 50 == 0:\n",
    "        # Plotting\n",
    "        num = np.random.randint(0, 64)\n",
    "        fig, axes = plt.subplots(1, 2)\n",
    "        axes[0].imshow(output[num][0].detach().numpy(), cmap='hot')\n",
    "        axes[0].set_title(f'LRP Output after {x} iterations')\n",
    "        axes[1].imshow(target_map[num][0], cmap='hot')\n",
    "        axes[1].set_title('Original Image')\n",
    "        plt.show()\n",
    "        run_test_on_inner_net(model.model, test_loader)\n"
   ]
  },
  {
   "cell_type": "code",
   "execution_count": null,
   "metadata": {},
   "outputs": [],
   "source": []
  }
 ],
 "metadata": {
  "kernelspec": {
   "display_name": "minatar",
   "language": "python",
   "name": "python3"
  },
  "language_info": {
   "codemirror_mode": {
    "name": "ipython",
    "version": 3
   },
   "file_extension": ".py",
   "mimetype": "text/x-python",
   "name": "python",
   "nbconvert_exporter": "python",
   "pygments_lexer": "ipython3",
   "version": "3.10.14"
  }
 },
 "nbformat": 4,
 "nbformat_minor": 2
}
