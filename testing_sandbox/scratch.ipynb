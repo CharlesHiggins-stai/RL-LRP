{
 "cells": [
  {
   "cell_type": "markdown",
   "metadata": {},
   "source": [
    "# Scratch document\n",
    "\n",
    "\n",
    "## Objectives\n",
    "We need to test the following hypothesis: \n",
    "\n",
    "*Training Benefits*\n",
    "- Training with an explanation loss term included results in better explanations\n",
    "- Including a loss term like this can cause the model to generalise better --- meaning better performance on limited data. \n",
    "\n",
    "*Post Training Benefits*\n",
    "- Minimising this loss post convergence can work to improve explanation (robustness, sparseness).\n",
    "- Minimising this loss post convergence can unlock better performance --- i.e. can improve performance on test set by an extra 2-3 percent. \n",
    "\n",
    "## Components necessary\n",
    "- A teacher model and a learner model, preferably of different architectures, on CIFAR10 and Imagenette \n",
    "- Training loop which works and optimal hyperparameters\n",
    "- A way of assessing the quality of explanations\n",
    "\n",
    "## Plan of action over the course of the next 3 days\n",
    "- Train a teacher model on CIFAR10 to achieve the best performance and get a different teacher model. \n",
    "- Train a model using best hyperparams found via sweeps on a different teacher model. \n",
    "    - Explore images and cross entropy losses compared to ablation baseline. \n",
    "    - Compare quality of explanations post learning. \n",
    "- While training, find pre-trained Imagenette Varients (VGG16 and VGG19). \n",
    "- Compare performance, and attempt to minimise loss. \n",
    "- Compare the quality of explanations before and after finetuning.\n",
    "\n",
    "IF TRAINING HAS COMPLETED: \n",
    "- Isolate a small portion of the dataset (say 10 percent)\n",
    "- Repeat training and consider performance on test set in particular.\n",
    "    - Attempt to demonstrate better generalisation importance by learning important features. \n",
    "    - More signal given limited data."
   ]
  },
  {
   "cell_type": "markdown",
   "metadata": {},
   "source": []
  }
 ],
 "metadata": {
  "language_info": {
   "name": "python"
  }
 },
 "nbformat": 4,
 "nbformat_minor": 2
}
